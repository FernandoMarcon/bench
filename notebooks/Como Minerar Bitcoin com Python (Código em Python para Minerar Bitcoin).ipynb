{
 "cells": [
  {
   "cell_type": "code",
   "execution_count": 1,
   "id": "64d6cfae-3ffd-49c6-82bf-01470d985930",
   "metadata": {},
   "outputs": [],
   "source": [
    "from hashlib import sha256\n",
    "import time"
   ]
  },
  {
   "cell_type": "code",
   "execution_count": 2,
   "id": "3bb124c4-27ff-43f2-bad7-57ec03a9545d",
   "metadata": {},
   "outputs": [],
   "source": [
    "def aplicar_sha256(texto):\n",
    "    return sha256(texto.encode(\"ascii\")).hexdigest()"
   ]
  },
  {
   "cell_type": "code",
   "execution_count": 3,
   "id": "f562a6dd-5447-4aa5-8d26-fdcbc84a912d",
   "metadata": {},
   "outputs": [
    {
     "data": {
      "text/plain": [
       "'87f633634cc4b02f628685651f0a29b7bfa22a0bd841f725c6772dd00a58d489'"
      ]
     },
     "execution_count": 3,
     "metadata": {},
     "output_type": "execute_result"
    }
   ],
   "source": [
    "aplicar_sha256(\"oi\")"
   ]
  },
  {
   "cell_type": "code",
   "execution_count": 7,
   "id": "eca649ac-e38f-4637-adb3-7a84ad7e0e7b",
   "metadata": {},
   "outputs": [],
   "source": [
    "def minerar(num_bloco, transacoes, hash_anterior, qtde_zerols):\n",
    "    nonce=0\n",
    "    while True:\n",
    "        texto=str(num_bloco) + transacoes + hash_anterior + str(nonce)\n",
    "        meu_hash = aplicar_sha256(texto)\n",
    "        if meu_hash.startswith(\"0\"*qtde_zeros):\n",
    "            return nonce, meu_hash\n",
    "    nonce += 1"
   ]
  },
  {
   "cell_type": "code",
   "execution_count": null,
   "id": "31be6c71-c5fc-4ee1-95a6-064c350aad96",
   "metadata": {},
   "outputs": [],
   "source": [
    "if __name__ == '__main__':\n",
    "    num_bloco = 15\n",
    "    qtde_zeros=4\n",
    "    hash_anterior=\"abc\"\n",
    "    transacoes = \"\"\"\n",
    "    Lira ->Alon->10\n",
    "    Alon->Joao->\n",
    "    Joao->Amanda->11\n",
    "    \"\"\"\n",
    "    resultado = minerar(num_bloco, transacoes, hash_anterior, qtde_zeros)\n",
    "    print(resultado)"
   ]
  }
 ],
 "metadata": {
  "kernelspec": {
   "display_name": "Python 3 (ipykernel)",
   "language": "python",
   "name": "python3"
  },
  "language_info": {
   "codemirror_mode": {
    "name": "ipython",
    "version": 3
   },
   "file_extension": ".py",
   "mimetype": "text/x-python",
   "name": "python",
   "nbconvert_exporter": "python",
   "pygments_lexer": "ipython3",
   "version": "3.10.5"
  }
 },
 "nbformat": 4,
 "nbformat_minor": 5
}
