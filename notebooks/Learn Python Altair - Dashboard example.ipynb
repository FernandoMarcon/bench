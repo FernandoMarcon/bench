{
 "cells": [
  {
   "cell_type": "markdown",
   "id": "41f5cb6d-5e0a-4c5a-84a1-5da05c94fb56",
   "metadata": {},
   "source": [
    "# Learn Python Altair: Dashboard example\n",
    "[source](https://www.youtube.com/watch?v=-3sTp7-D_SA)\n",
    "\n",
    "[data](https://www.strava.com/activities/4053907192)"
   ]
  },
  {
   "cell_type": "code",
   "execution_count": null,
   "id": "f5645b8f-2eb4-4636-bf26-43f1e90bdcac",
   "metadata": {},
   "outputs": [],
   "source": []
  },
  {
   "cell_type": "code",
   "execution_count": null,
   "id": "aba0f6de-01ec-4b80-a9eb-d2fd5b582c08",
   "metadata": {},
   "outputs": [],
   "source": []
  }
 ],
 "metadata": {
  "kernelspec": {
   "display_name": "Python 3 (ipykernel)",
   "language": "python",
   "name": "python3"
  },
  "language_info": {
   "codemirror_mode": {
    "name": "ipython",
    "version": 3
   },
   "file_extension": ".py",
   "mimetype": "text/x-python",
   "name": "python",
   "nbconvert_exporter": "python",
   "pygments_lexer": "ipython3",
   "version": "3.10.5"
  }
 },
 "nbformat": 4,
 "nbformat_minor": 5
}
