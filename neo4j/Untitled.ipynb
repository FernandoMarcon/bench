{
 "cells": [
  {
   "cell_type": "code",
   "execution_count": 1,
   "id": "4e767443-2bb2-4af5-804c-ff6d03ccd80d",
   "metadata": {},
   "outputs": [],
   "source": [
    "from neo4j import GraphDatabase"
   ]
  },
  {
   "cell_type": "code",
   "execution_count": 2,
   "id": "3b1c553c-a6aa-4daa-993b-26eb67b9a550",
   "metadata": {},
   "outputs": [],
   "source": [
    "NEO4J_URI=\"bolt://3.95.184.198:7687\"\n",
    "NEO4J_USERNAME=\"neo4j\"\n",
    "NEO4J_PASSWORD=\"networks-shelters-modules\""
   ]
  },
  {
   "cell_type": "code",
   "execution_count": 3,
   "id": "e7791dfd-a402-499f-ad92-1f38c9dc6d0a",
   "metadata": {},
   "outputs": [
    {
     "name": "stderr",
     "output_type": "stream",
     "text": [
      "/tmp/ipykernel_71816/3490514894.py:2: ExperimentalWarning: The configuration may change in the future.\n",
      "  driver.verify_connectivity()\n"
     ]
    },
    {
     "data": {
      "text/plain": [
       "'Neo4j/4.4.10'"
      ]
     },
     "execution_count": 3,
     "metadata": {},
     "output_type": "execute_result"
    }
   ],
   "source": [
    "driver = GraphDatabase.driver(uri=NEO4J_URI, auth=(NEO4J_USERNAME, NEO4J_PASSWORD))\n",
    "driver.verify_connectivity()"
   ]
  },
  {
   "cell_type": "code",
   "execution_count": 16,
   "id": "96f47cc1-8ff6-4fd8-917d-ad75e924f4e0",
   "metadata": {},
   "outputs": [],
   "source": [
    "# Unit of work\n",
    "def get_actors(tx, movie): # (1)\n",
    "    query = \"\"\"\n",
    "        MATCH (p:Person)\n",
    "        /// MATCH (p:Person)-[:ACTED_IN]->(:Movie {title: $title})\n",
    "        RETURN p LIMIT 10\n",
    "    \"\"\"\n",
    "    result = tx.run(query, title=movie)\n",
    "    print(result.peek())\n",
    "\n",
    "    # Access the `p` value from each record\n",
    "    return [ record[\"p\"] for record in result ]\n",
    "\n",
    "# # Open a Session\n",
    "# with driver.session() as session:\n",
    "#     # Run the unit of work within a Read Transaction\n",
    "#     actors = session.read_transaction(get_actors, movie=\"The Green Mile\") # (2)\n",
    "\n",
    "#     for record in actors:\n",
    "#         # print(record[\"p\"])\n",
    "#         print(record)\n",
    "\n",
    "#     session.close()"
   ]
  },
  {
   "cell_type": "code",
   "execution_count": 18,
   "id": "832d9280-cb75-476c-a967-b6f5b0cd7fac",
   "metadata": {},
   "outputs": [
    {
     "name": "stdout",
     "output_type": "stream",
     "text": [
      "<Record p=<Node id=9816 labels=frozenset({'Actor', 'Person'}) properties={'bornIn': 'France', 'tmdbId': '1271225', 'imdbId': '2083046', 'born': neo4j.time.Date(1877, 2, 4), 'name': 'François Lallement', 'died': neo4j.time.Date(1954, 1, 1), 'url': 'https://themoviedb.org/person/1271225'}>>\n",
      "dict_keys(['bornIn', 'tmdbId', 'imdbId', 'born', 'name', 'died', 'url'])\n",
      "dict_keys(['tmdbId', 'imdbId', 'born', 'name', 'died', 'url'])\n",
      "dict_keys(['bornIn', 'tmdbId', 'imdbId', 'born', 'name', 'bio', 'died', 'poster', 'url'])\n",
      "dict_keys(['bornIn', 'tmdbId', 'imdbId', 'born', 'name', 'bio', 'died', 'poster', 'url'])\n",
      "dict_keys(['bornIn', 'tmdbId', 'imdbId', 'born', 'name', 'bio', 'died', 'poster', 'url'])\n",
      "dict_keys(['tmdbId', 'imdbId', 'born', 'name', 'bio', 'died', 'poster', 'url'])\n",
      "dict_keys(['tmdbId', 'imdbId', 'name', 'url'])\n",
      "dict_keys(['tmdbId', 'imdbId', 'name', 'url'])\n",
      "dict_keys(['bornIn', 'tmdbId', 'imdbId', 'born', 'name', 'died', 'url'])\n",
      "dict_keys(['bornIn', 'tmdbId', 'imdbId', 'born', 'name', 'died', 'url'])\n"
     ]
    }
   ],
   "source": [
    "# Open a Session\n",
    "with driver.session() as session:\n",
    "    # Run the unit of work within a Read Transaction\n",
    "    actors = session.read_transaction(get_actors, movie=\"The Green Mile\") # (2)\n",
    "\n",
    "    for record in actors:\n",
    "    \n",
    "        # Check the first record without consuming it\n",
    "        print(record.keys())\n",
    "        # print(peek)\n",
    "    session.close()"
   ]
  },
  {
   "cell_type": "code",
   "execution_count": 19,
   "id": "96d6ebcc-0a28-4ea2-a9b4-2a4a94738674",
   "metadata": {},
   "outputs": [],
   "source": [
    "def get_actors_consume(tx, name):\n",
    "    result = tx.run(\"\"\"\n",
    "        MERGE (p:Person {name: $name})\n",
    "        RETURN p\n",
    "    \"\"\", name=name)\n",
    "\n",
    "    info = result.consume()"
   ]
  },
  {
   "cell_type": "code",
   "execution_count": 21,
   "id": "8d332297-0933-4b91-a0ac-6c68be18fbc5",
   "metadata": {},
   "outputs": [
    {
     "ename": "TypeError",
     "evalue": "get_actors_consume() missing 1 required positional argument: 'tx'",
     "output_type": "error",
     "traceback": [
      "\u001b[0;31m---------------------------------------------------------------------------\u001b[0m",
      "\u001b[0;31mTypeError\u001b[0m                                 Traceback (most recent call last)",
      "Input \u001b[0;32mIn [21]\u001b[0m, in \u001b[0;36m<cell line: 1>\u001b[0;34m()\u001b[0m\n\u001b[0;32m----> 1\u001b[0m \u001b[43mget_actors_consume\u001b[49m\u001b[43m(\u001b[49m\u001b[43mname\u001b[49m\u001b[38;5;241;43m=\u001b[39;49m\u001b[38;5;124;43m\"\u001b[39;49m\u001b[38;5;124;43mFrançois Lallement\u001b[39;49m\u001b[38;5;124;43m\"\u001b[39;49m\u001b[43m)\u001b[49m\n",
      "\u001b[0;31mTypeError\u001b[0m: get_actors_consume() missing 1 required positional argument: 'tx'"
     ]
    }
   ],
   "source": [
    "get_actors_consume(name=\"François Lallement\")"
   ]
  },
  {
   "cell_type": "code",
   "execution_count": null,
   "id": "ea5615a3-a314-4778-a204-8a08b08d0b2d",
   "metadata": {},
   "outputs": [],
   "source": []
  }
 ],
 "metadata": {
  "kernelspec": {
   "display_name": "Python 3 (ipykernel)",
   "language": "python",
   "name": "python3"
  },
  "language_info": {
   "codemirror_mode": {
    "name": "ipython",
    "version": 3
   },
   "file_extension": ".py",
   "mimetype": "text/x-python",
   "name": "python",
   "nbconvert_exporter": "python",
   "pygments_lexer": "ipython3",
   "version": "3.10.5"
  }
 },
 "nbformat": 4,
 "nbformat_minor": 5
}
